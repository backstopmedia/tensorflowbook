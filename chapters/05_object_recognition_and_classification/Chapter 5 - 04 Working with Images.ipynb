{
 "cells": [
  {
   "cell_type": "code",
   "execution_count": 1,
   "metadata": {
    "collapsed": true
   },
   "outputs": [],
   "source": [
    "# setup-only-ignore\n",
    "import tensorflow as tf\n",
    "import numpy as np"
   ]
  },
  {
   "cell_type": "code",
   "execution_count": 2,
   "metadata": {
    "collapsed": false
   },
   "outputs": [],
   "source": [
    "# setup-only-ignore\n",
    "sess = tf.InteractiveSession()"
   ]
  },
  {
   "cell_type": "markdown",
   "metadata": {},
   "source": [
    "## Images and TensorFlow\n",
    "\n",
    "TensorFlow is designed to support working with images as input to neural networks. TensorFlow supports loading common file formats (JPG, PNG), working in different color spaces (RGB, RGBA) and common image manipulation tasks. TensorFlow makes it easier to work with images but it's still a challenge. The largest challenge working with images are the size of the tensor which is eventually loaded. Every image requires a tensor the same size as the image's <span class=\"math-tex\" data-type=\"tex\">\\\\(height \\* width \\* channels\\\\)</span>. As a reminder, channels are represented as a rank 1 tensor including a scalar amount of color in each channel.\n",
    "\n",
    "A red RGB pixel in TensorFlow would be represented with the following tensor."
   ]
  },
  {
   "cell_type": "code",
   "execution_count": 3,
   "metadata": {
    "collapsed": false
   },
   "outputs": [],
   "source": [
    "red = tf.constant([255, 0, 0])"
   ]
  },
  {
   "cell_type": "markdown",
   "metadata": {},
   "source": [
    "Each scalar can be changed to make the pixel another color or a mix of colors. The rank 1 tensor of a pixel is in the format of `[red, green, blue]` for an RGB color space. All the pixels in an image are stored in files on a disk which need to be read into memory so TensorFlow may operate on them."
   ]
  },
  {
   "cell_type": "markdown",
   "metadata": {},
   "source": [
    "### Loading images\n",
    "\n",
    "TensorFlow is designed to make it easy to load files from disk quickly. Loading images is the same as loading any other large binary file until the contents are decoded. Loading this example 3x3 pixel RGB JPG image is done using a similar process to loading any other type of file.\n",
    "\n",
    "![Example Image](./images/chapter-05-object-recognition-and-classification/working-with-images/test-input-image-large.jpg)"
   ]
  },
  {
   "cell_type": "code",
   "execution_count": 4,
   "metadata": {
    "collapsed": true
   },
   "outputs": [],
   "source": [
    "# The match_filenames_once will accept a regex but there is no need for this example.\n",
    "image_filename = \"./images/chapter-05-object-recognition-and-classification/working-with-images/test-input-image.jpg\"\n",
    "filename_queue = tf.train.string_input_producer([image_filename])\n",
    "\n",
    "image_reader = tf.WholeFileReader()\n",
    "_, image_file = image_reader.read(filename_queue)\n",
    "image = tf.image.decode_jpeg(image_file)"
   ]
  },
  {
   "cell_type": "markdown",
   "metadata": {},
   "source": [
    "The image, which is assumed to be located in a relative directory from where this code is ran. An input producer (`tf.train.string_input_producer`) finds the files and adds them to a queue for loading. Loading an image requires loading the entire file into memory (`tf.WholeFileReader`) and onces a file has been read (`image_reader.read`) the resulting image is decoded (`tf.image.decode_jpeg`).\n",
    "\n",
    "Now the image can be inspected, since there is only one file by that name the queue will always return the same image."
   ]
  },
  {
   "cell_type": "code",
   "execution_count": 5,
   "metadata": {
    "collapsed": false
   },
   "outputs": [],
   "source": [
    "# setup-only-ignore\n",
    "sess.run(tf.global_variables_initializer())\n",
    "coord = tf.train.Coordinator()\n",
    "threads = tf.train.start_queue_runners(coord=coord, sess=sess)"
   ]
  },
  {
   "cell_type": "code",
   "execution_count": 6,
   "metadata": {
    "collapsed": false
   },
   "outputs": [
    {
     "data": {
      "text/plain": [
       "array([[[  0,   0,   0],\n",
       "        [255, 255, 255],\n",
       "        [254,   0,   0]],\n",
       "\n",
       "       [[  0, 191,   0],\n",
       "        [  3, 108, 233],\n",
       "        [  0, 191,   0]],\n",
       "\n",
       "       [[254,   0,   0],\n",
       "        [255, 255, 255],\n",
       "        [  0,   0,   0]]], dtype=uint8)"
      ]
     },
     "execution_count": 6,
     "metadata": {},
     "output_type": "execute_result"
    }
   ],
   "source": [
    "sess.run(image)"
   ]
  },
  {
   "cell_type": "code",
   "execution_count": 7,
   "metadata": {
    "collapsed": false
   },
   "outputs": [],
   "source": [
    "# setup-only-ignore\n",
    "filename_queue.close(cancel_pending_enqueues=True)\n",
    "coord.request_stop()\n",
    "coord.join(threads)"
   ]
  },
  {
   "cell_type": "markdown",
   "metadata": {},
   "source": [
    "Inspect the output from loading an image, notice that it's a fairly simple rank 3 tensor. The RGB values are found in 9 rank 1 tensors. The higher rank of the image should be familiar from earlier sections. The format of the image loaded in memory is now `[batch_size, image_height, image_width, channels]`.\n",
    "\n",
    "The `batch_size` in this example is 1 because there are no batching operations happening. Batching of input is covered in [the TensorFlow documentation](https://www.tensorflow.org/versions/master/how_tos/reading_data/index.html#batching) with a great amount of detail. When dealing with images, note the amount of memory required to load the raw images. If the images are too large or too many are loaded in a batch, the system may stop responding."
   ]
  },
  {
   "cell_type": "markdown",
   "metadata": {},
   "source": [
    "### Image Formats\n",
    "\n",
    "It's important to consider aspects of images and how they affect a model. Consider what would happen if a network is trained with input from a single frame of a [RED Weapon Camera](http://www.red.com/products/weapon-dragon#tech-specs), which at the time of writing this, has an effective pixel count of `6144x3160`. That'd be 19,415,040 rank one tensors with 3 dimensions of color information.\n",
    "\n",
    "Practically speaking, an input of that size will use a huge amount of system memory. Training a CNN takes a large amount of time and loading very large files slow it down more. Even if the increase in time is acceptable, the size a single image would be hard to fit in memory on the majority of system's GPUs.\n",
    "\n",
    "A large input image is counterproductive to training most CNNs as well. The CNN is attempting to find inherent attributes in an image, which are unique but generalized so that they may be applied to other images with similar results. Using a large input is flooding a network with irrelevant information which will keep from generalizing the model.\n",
    "\n",
    "In the [Stanford Dogs Dataset](http://vision.stanford.edu/aditya86/ImageNetDogs/) there are two extremely different images of the same dog breed which should both match as a Pug. Although cute, these images are filled with useless information which mislead a network during training. For example, the hat worn by the Pug in n02110958_4030.jpg isn't a feature a CNN needs to learn in order to match a Pug. Most Pugs prefer pirate hats so the jester hat is training the network to match a hat which most Pugs don't wear.\n",
    "\n",
    "![Example Pug Side-by-Side](./images/chapter-05-object-recognition-and-classification/working-with-images/pug-example.png)\n",
    "\n",
    "Highlighting important information in images is done by storing them in an appropriate file format and manipulating them. Different formats can be used to solve different problems encountered while working with images."
   ]
  },
  {
   "cell_type": "markdown",
   "metadata": {},
   "source": [
    "#### JPEG and PNG\n",
    "\n",
    "TensorFlow has two image formats used to decode image data, one is `tf.image.decode_jpeg` and the other is `tf.image.decode_png`. These are common file formats in computer vision applications because they're trivial to convert other formats to.\n",
    "\n",
    "Something important to keep in mind, JPEG images don't store any alpha channel information and PNG images do. This could be important if what you're training on requires alpha information (transparency). An example usage scenario is one where you've manually cut out some pieces of an image, for example, irrelevant jester hats on dogs. Setting those pieces to black would make them seem of similar importance to other black colored items in the image. Setting the removed hat to have an alpha of 0 would help in distinguishing its removal.\n",
    "\n",
    "When working with JPEG images, don't manipulate them too much because it'll leave [artifacts](https://www.youtube.com/watch?v=Fk6kV5N1rzs). Instead, plan to take raw images and export them to JPEG while doing any manipulation needed. Try to manipulate images before loading them whenever possible to save time in training.\n",
    "\n",
    "PNG images work well if manipulation is required. PNG format is lossless so it'll keep all the information from the original file (unless they've been resized or downsampled). The downside to PNGs is that the files are larger than their JPEG counterpart."
   ]
  },
  {
   "cell_type": "markdown",
   "metadata": {},
   "source": [
    "#### TFRecord\n",
    "\n",
    "TensorFlow has a built-in file format designed to keep binary data and label (category for training) data in the same file. The format is called TFRecord and the format requires a preprocessing step to [convert images](https://www.tensorflow.org/versions/r0.8/how_tos/reading_data/index.html#preprocessing) to a TFRecord format before training. The largest benefit is keeping each input image in the same file as the label associated with it.\n",
    "\n",
    "Technically, TFRecord files are protobuf formatted files. They are great for use as a preprocessed format because they aren't compressed and can be loaded into memory quickly. In this example, an image is written to a new TFRecord formatted file and it's label is stored as well. "
   ]
  },
  {
   "cell_type": "code",
   "execution_count": 8,
   "metadata": {
    "collapsed": false
   },
   "outputs": [],
   "source": [
    "# Reuse the image from earlier and give it a fake label\n",
    "image_label = b'\\x01'  # Assume the label data is in a one-hot representation (00000001)\n",
    "\n",
    "# Convert the tensor into bytes, notice that this will load the entire image file\n",
    "image_loaded = sess.run(image)\n",
    "image_bytes = image_loaded.tobytes()\n",
    "image_height, image_width, image_channels = image_loaded.shape\n",
    "\n",
    "# Export TFRecord\n",
    "writer = tf.python_io.TFRecordWriter(\"./output/training-image.tfrecord\")\n",
    "\n",
    "# Don't store the width, height or image channels in this Example file to save space but not required.\n",
    "example = tf.train.Example(features=tf.train.Features(feature={\n",
    "            'label': tf.train.Feature(bytes_list=tf.train.BytesList(value=[image_label])),\n",
    "            'image': tf.train.Feature(bytes_list=tf.train.BytesList(value=[image_bytes]))\n",
    "        }))\n",
    "\n",
    "# This will save the example to a text file tfrecord\n",
    "writer.write(example.SerializeToString())\n",
    "writer.close()"
   ]
  },
  {
   "cell_type": "markdown",
   "metadata": {},
   "source": [
    "The label is in a format known as one-hot encoding which is a common way to work with label data for categorization of multi-class data. The Stanford Dogs Dataset is being treated as multi-class data because the dogs are being categorized as a single breed and not a mix of breeds. In the real world, a multilabel solution would work well to predict dog breeds because it'd be capable of matching a dog with multiple breeds.\n",
    "\n",
    "In the example code, the image is loaded into memory and converted into an array of bytes. The bytes are then added to the `tf.train.Example` file which are serialized `SerializeToString` before storing to disk. Serialization is a way of converting the in memory object into a format safe to be transferred to a file. The serialized example is now saved in a format which can be loaded and deserialized back to the example format saved here.\n",
    "\n",
    "Now that the image is saved as a TFRecord it can be loaded again but this time from the TFRecord file. This would be the loading required in a training step to load the image and label for training. This will save time from loading the input image and its corresponding label separately."
   ]
  },
  {
   "cell_type": "code",
   "execution_count": 9,
   "metadata": {
    "collapsed": false
   },
   "outputs": [],
   "source": [
    "# Load TFRecord\n",
    "tf_record_filename_queue = tf.train.string_input_producer([\"./output/training-image.tfrecord\"])\n",
    "\n",
    "# Notice the different record reader, this one is designed to work with TFRecord files which may\n",
    "# have more than one example in them.\n",
    "tf_record_reader = tf.TFRecordReader()\n",
    "_, tf_record_serialized = tf_record_reader.read(tf_record_filename_queue)\n",
    "\n",
    "# The label and image are stored as bytes but could be stored as int64 or float64 values in a\n",
    "# serialized tf.Example protobuf.\n",
    "tf_record_features = tf.parse_single_example(\n",
    "    tf_record_serialized,\n",
    "    features={\n",
    "        'label': tf.FixedLenFeature([], tf.string),\n",
    "        'image': tf.FixedLenFeature([], tf.string),\n",
    "    })\n",
    "\n",
    "# Using tf.uint8 because all of the channel information is between 0-255\n",
    "tf_record_image = tf.decode_raw(\n",
    "    tf_record_features['image'], tf.uint8)\n",
    "\n",
    "# Reshape the image to look like the image saved, not required\n",
    "tf_record_image = tf.reshape(\n",
    "    tf_record_image,\n",
    "    [image_height, image_width, image_channels])\n",
    "# Use real values for the height, width and channels of the image because it's required\n",
    "# to reshape the input.\n",
    "\n",
    "tf_record_label = tf.cast(tf_record_features['label'], tf.string)"
   ]
  },
  {
   "cell_type": "markdown",
   "metadata": {},
   "source": [
    "At first, the file is loaded in the same way as any other file. The main difference is that the file is then read using a `TFRecordReader`. Instead of decoding the image, the TFRecord is parsed `tf.parse_single_example` and then the image is read as raw bytes (`tf.decode_raw`).\n",
    "\n",
    "After the file is loaded, it is reshaped (`tf.reshape`) in order to keep it in the same layout as `tf.nn.conv2d` expects it `[image_height, image_width, image_channels]`. It'd be save to expand the dimensions (`tf.expand`) in order to add in the `batch_size` dimension to the `input_batch`.\n",
    "\n",
    "In this case a single image is in the TFRecord but these record files support multiple examples being written to them. It'd be safe to have a single TFRecord file which stores an entire training set but splitting up the files doesn't hurt.\n",
    "\n",
    "The following code is useful to check that the image saved to disk is the same as the image which was loaded from TensorFlow."
   ]
  },
  {
   "cell_type": "code",
   "execution_count": 10,
   "metadata": {
    "collapsed": false
   },
   "outputs": [],
   "source": [
    "# setup-only-ignore\n",
    "sess.close()\n",
    "sess = tf.InteractiveSession()\n",
    "sess.run(tf.global_variables_initializer())\n",
    "coord = tf.train.Coordinator()\n",
    "threads = tf.train.start_queue_runners(coord=coord, sess=sess)"
   ]
  },
  {
   "cell_type": "code",
   "execution_count": 11,
   "metadata": {
    "collapsed": false
   },
   "outputs": [
    {
     "data": {
      "text/plain": [
       "array([[[ True,  True,  True],\n",
       "        [ True,  True,  True],\n",
       "        [ True,  True,  True]],\n",
       "\n",
       "       [[ True,  True,  True],\n",
       "        [ True,  True,  True],\n",
       "        [ True,  True,  True]],\n",
       "\n",
       "       [[ True,  True,  True],\n",
       "        [ True,  True,  True],\n",
       "        [ True,  True,  True]]], dtype=bool)"
      ]
     },
     "execution_count": 11,
     "metadata": {},
     "output_type": "execute_result"
    }
   ],
   "source": [
    "sess.run(tf.equal(image, tf_record_image))"
   ]
  },
  {
   "cell_type": "markdown",
   "metadata": {},
   "source": [
    "All of the attributes of the original image and the image loaded from the TFRecord file are the same. To be sure, load the label from the TFRecord file and check that it is the same as the one saved earlier."
   ]
  },
  {
   "cell_type": "code",
   "execution_count": 12,
   "metadata": {
    "collapsed": false
   },
   "outputs": [
    {
     "data": {
      "text/plain": [
       "b'\\x01'"
      ]
     },
     "execution_count": 12,
     "metadata": {},
     "output_type": "execute_result"
    }
   ],
   "source": [
    "# Check that the label is still 0b00000001.\n",
    "sess.run(tf_record_label)"
   ]
  },
  {
   "cell_type": "code",
   "execution_count": 13,
   "metadata": {
    "collapsed": false
   },
   "outputs": [],
   "source": [
    "# setup-only-ignore\n",
    "tf_record_filename_queue.close(cancel_pending_enqueues=True)\n",
    "coord.request_stop()\n",
    "coord.join(threads)"
   ]
  },
  {
   "cell_type": "markdown",
   "metadata": {},
   "source": [
    "Creating a file which stores both the raw image data and the expected output label will save complexities during training. It's not required to use TFRecord files but it's highly recommend when working with images. If it doesn't work well for a workflow, it's still recommended to preprocess images and save them before training. Manipulating an image each time it's loaded is not recommended."
   ]
  },
  {
   "cell_type": "markdown",
   "metadata": {},
   "source": [
    "### Image Manipulation\n",
    "\n",
    "CNNs work well when they're given a large amount of diverse quality training data. Images capture complex scenes in a way which visually communicates an intended subject. In the Stanford Dog's Dataset, it's important that the images visually highlight the importance of dogs in the picture. A picture with a dog clearly visible in the center is considered more valuable than one with a dog in the background.\n",
    "\n",
    "Not all datasets have the most valuable images. The following are two images from the [Stanford Dogs Dataset](http://vision.stanford.edu/aditya86/ImageNetDogs/) which are supposed to highlight dog breeds. The image on the left `n02113978_3480.jpg` highlights important attributes of a typical Mexican Hairless Dog, while the image on the right `n02113978_1030.jpg` highlights the look of inebriated party goers scaring a Mexican Hairless Dog. The image on the right `n02113978_1030.jpg` is filled with irrelevant information which may train a CNN to categorize party goer faces instead of Mexican Hairless Dog breeds. Images like this may still include an image of a dog and could be manipulated to highlight the dog instead of people.\n",
    "\n",
    "![Image Choice](./images/chapter-05-object-recognition-and-classification/working-with-images/manipulation-example.png)"
   ]
  },
  {
   "cell_type": "markdown",
   "metadata": {},
   "source": [
    "Image manipulation is best done as a preprocessing step in most scenarios. An image can be cropped, resized and the color levels adjusted. On the other hand, there is an important use case for manipulating an image while training. After an image is loaded, it can be flipped or distorted to diversify the input training information used with the network. This step adds further processing time but helps with overfitting.\n",
    "\n",
    "TensorFlow is not designed as an image manipulation framework. There are libraries available in Python which support more image manipulation than TensorFlow ([PIL](http://www.pythonware.com/products/pil/) and [OpenCV](http://docs.opencv.org/3.0-beta/doc/py_tutorials/py_tutorials.html)). For TensorFlow, we'll summarize a few useful image manipulation features available which are useful in training CNNs."
   ]
  },
  {
   "cell_type": "markdown",
   "metadata": {},
   "source": [
    "#### Cropping\n",
    "\n",
    "Cropping an image will remove certain regions of the image without keeping any information. Cropping is similar to `tf.slice` where a section of a tensor is cut out from the full tensor. Cropping an input image for a CNN can be useful if there is extra input along a dimension which isn't required. For example, cropping dog pictures where the dog is in the center of the images to reduce the size of the input."
   ]
  },
  {
   "cell_type": "code",
   "execution_count": 13,
   "metadata": {
    "collapsed": false
   },
   "outputs": [
    {
     "data": {
      "text/plain": [
       "array([[[  3, 108, 233]]], dtype=uint8)"
      ]
     },
     "execution_count": 13,
     "metadata": {},
     "output_type": "execute_result"
    }
   ],
   "source": [
    "sess.run(tf.image.central_crop(image, 0.1))"
   ]
  },
  {
   "cell_type": "markdown",
   "metadata": {},
   "source": [
    "The example code uses `tf.image.central_crop` to crop out 10% of the image and return it. This method always returns based on the center of the image being used.\n",
    "\n",
    "Cropping is usually done in preprocessing but it can be useful when training if the background is useful. When the background is useful then cropping can be done while randomizing the center offset of where the crop begins."
   ]
  },
  {
   "cell_type": "code",
   "execution_count": 14,
   "metadata": {
    "collapsed": false
   },
   "outputs": [
    {
     "data": {
      "text/plain": [
       "array([[[  0,   0,   0]],\n",
       "\n",
       "       [[  0, 191,   0]]], dtype=uint8)"
      ]
     },
     "execution_count": 14,
     "metadata": {},
     "output_type": "execute_result"
    }
   ],
   "source": [
    "# This crop method only works on real value input.\n",
    "real_image = sess.run(image)\n",
    "\n",
    "bounding_crop = tf.image.crop_to_bounding_box(\n",
    "    real_image, offset_height=0, offset_width=0, target_height=2, target_width=1)\n",
    "\n",
    "sess.run(bounding_crop)"
   ]
  },
  {
   "cell_type": "markdown",
   "metadata": {},
   "source": [
    "The example code uses `tf.image.crop_to_bounding_box` in order to crop the image starting at the upper left pixel located at `(0, 0)`. Currently, the function only works with a tensor which has a defined shape so an input image needs to be executed on the graph first."
   ]
  },
  {
   "cell_type": "markdown",
   "metadata": {},
   "source": [
    "#### Padding\n",
    "\n",
    "Pad an image with zeros in order to make it the same size as an expected image. This can be accomplished using `tf.pad` but TensorFlow has another function useful for resizing images which are too large or too small. The method will pad an image which is too small including zeros along the edges of the image. Often, this method is used to resize small images because any other method of resizing with distort the image."
   ]
  },
  {
   "cell_type": "code",
   "execution_count": 15,
   "metadata": {
    "collapsed": false
   },
   "outputs": [
    {
     "data": {
      "text/plain": [
       "array([[[  0,   0,   0],\n",
       "        [255, 255, 255],\n",
       "        [254,   0,   0],\n",
       "        [  0,   0,   0]],\n",
       "\n",
       "       [[  0, 191,   0],\n",
       "        [  3, 108, 233],\n",
       "        [  0, 191,   0],\n",
       "        [  0,   0,   0]],\n",
       "\n",
       "       [[254,   0,   0],\n",
       "        [255, 255, 255],\n",
       "        [  0,   0,   0],\n",
       "        [  0,   0,   0]],\n",
       "\n",
       "       [[  0,   0,   0],\n",
       "        [  0,   0,   0],\n",
       "        [  0,   0,   0],\n",
       "        [  0,   0,   0]]], dtype=uint8)"
      ]
     },
     "execution_count": 15,
     "metadata": {},
     "output_type": "execute_result"
    }
   ],
   "source": [
    "# This padding method only works on real value input.\n",
    "real_image = sess.run(image)\n",
    "\n",
    "pad = tf.image.pad_to_bounding_box(\n",
    "    real_image, offset_height=0, offset_width=0, target_height=4, target_width=4)\n",
    "\n",
    "sess.run(pad)"
   ]
  },
  {
   "cell_type": "markdown",
   "metadata": {},
   "source": [
    "This example code increases the images height by one pixel and its width by a pixel as well. The new pixels are all set to 0. Padding in this manner is useful for scaling up an image which is too small. This can happen if there are images in the training set with a mix of aspect ratios. TensorFlow has a useful shortcut for resizing images which don't match the same aspect ratio using a combination of `pad` and `crop`."
   ]
  },
  {
   "cell_type": "code",
   "execution_count": 16,
   "metadata": {
    "collapsed": false
   },
   "outputs": [
    {
     "data": {
      "text/plain": [
       "array([[[  0,   0,   0],\n",
       "        [  0,   0,   0],\n",
       "        [255, 255, 255],\n",
       "        [254,   0,   0],\n",
       "        [  0,   0,   0]],\n",
       "\n",
       "       [[  0,   0,   0],\n",
       "        [  0, 191,   0],\n",
       "        [  3, 108, 233],\n",
       "        [  0, 191,   0],\n",
       "        [  0,   0,   0]]], dtype=uint8)"
      ]
     },
     "execution_count": 16,
     "metadata": {},
     "output_type": "execute_result"
    }
   ],
   "source": [
    "# This padding method only works on real value input.\n",
    "real_image = sess.run(image)\n",
    "\n",
    "crop_or_pad = tf.image.resize_image_with_crop_or_pad(\n",
    "    real_image, target_height=2, target_width=5)\n",
    "\n",
    "sess.run(crop_or_pad)"
   ]
  },
  {
   "cell_type": "markdown",
   "metadata": {},
   "source": [
    "The `real_image` has been reduced in height to be 2 pixels tall and the width has been increased by padding the image with zeros. This function works based on the center of the image input."
   ]
  },
  {
   "cell_type": "markdown",
   "metadata": {},
   "source": [
    "#### Flipping\n",
    "\n",
    "Flipping an image is exactly what it sounds like. Each pixel's location is reversed horizontally or vertically. Technically speaking, flopping is the term used when flipping an image vertically. Terms aside, flipping images is useful with TensorFlow to give different perspectives of the same image for training. For example, a picture of an Australian Shepherd with crooked left ear could be flipped in order to allow matching of crooked right ears.\n",
    "\n",
    "TensorFlow has functions to flip images vertically, horizontally and choose randomly. The ability to randomly flip an image is a useful method to keep from overfitting a model to flipped versions of images."
   ]
  },
  {
   "cell_type": "code",
   "execution_count": 53,
   "metadata": {
    "collapsed": false
   },
   "outputs": [
    {
     "data": {
      "text/plain": [
       "[array([[[  0,   0,   0],\n",
       "         [255, 255, 255]],\n",
       " \n",
       "        [[  0, 191,   0],\n",
       "         [  3, 108, 233]]], dtype=uint8), array([[[  3, 108, 233],\n",
       "         [  0, 191,   0]],\n",
       " \n",
       "        [[255, 255, 255],\n",
       "         [  0,   0,   0]]], dtype=uint8)]"
      ]
     },
     "execution_count": 53,
     "metadata": {},
     "output_type": "execute_result"
    }
   ],
   "source": [
    "top_left_pixels = tf.slice(image, [0, 0, 0], [2, 2, 3])\n",
    "\n",
    "flip_horizon = tf.image.flip_left_right(top_left_pixels)\n",
    "flip_vertical = tf.image.flip_up_down(flip_horizon)\n",
    "\n",
    "sess.run([top_left_pixels, flip_vertical])"
   ]
  },
  {
   "cell_type": "markdown",
   "metadata": {},
   "source": [
    "This example code flips a subset of the image horizontally and then vertically. The subset is used with `tf.slice` because the original image flipped returns the same images (for this example only). The subset of pixels illustrates the change which occurs when an image is flipped. `tf.image.flip_left_right` and `tf.image.flip_up_down` both operate on tensors which are not limited to images. These will flip an image a single time, randomly flipping an image is done using a separate set of functions."
   ]
  },
  {
   "cell_type": "code",
   "execution_count": 56,
   "metadata": {
    "collapsed": false
   },
   "outputs": [
    {
     "data": {
      "text/plain": [
       "array([[[  3, 108, 233],\n",
       "        [  0, 191,   0]],\n",
       "\n",
       "       [[255, 255, 255],\n",
       "        [  0,   0,   0]]], dtype=uint8)"
      ]
     },
     "execution_count": 56,
     "metadata": {},
     "output_type": "execute_result"
    }
   ],
   "source": [
    "top_left_pixels = tf.slice(image, [0, 0, 0], [2, 2, 3])\n",
    "\n",
    "random_flip_horizon = tf.image.random_flip_left_right(top_left_pixels)\n",
    "random_flip_vertical = tf.image.random_flip_up_down(random_flip_horizon)\n",
    "\n",
    "sess.run(random_flip_vertical)"
   ]
  },
  {
   "cell_type": "markdown",
   "metadata": {},
   "source": [
    "This example does the same logic as the example before except that the output is random. Every time this runs, a different output is expected. There is a parameter named `seed` which may be used to control how random the flipping occurs."
   ]
  },
  {
   "cell_type": "markdown",
   "metadata": {},
   "source": [
    "#### Saturation and Balance\n",
    "\n",
    "Images which are found on the internet are often edited in advance. For instance, many of the images found in the Stanford Dogs dataset have too much saturation (lots of color). When an edited image is used for training, it may mislead a CNN model into finding patterns which are related to the edited image and not the content in the image.\n",
    "\n",
    "TensorFlow has useful functions which help in training on images by changing the saturation, hue, contrast and brightness. The functions allow for simple manipulation of these image attributes as well as randomly altering these attributes. The random altering is useful in training in for the same reason randomly flipping an image is useful. The random attribute changes help a CNN be able to accurately match a feature in images which have been edited or were taken under different lighting."
   ]
  },
  {
   "cell_type": "code",
   "execution_count": 122,
   "metadata": {
    "collapsed": false
   },
   "outputs": [
    {
     "data": {
      "text/plain": [
       "array([ 254.19999695,    2.20000005,   15.19999981], dtype=float32)"
      ]
     },
     "execution_count": 122,
     "metadata": {},
     "output_type": "execute_result"
    }
   ],
   "source": [
    "example_red_pixel = tf.constant([254., 2., 15.])\n",
    "adjust_brightness = tf.image.adjust_brightness(example_red_pixel, 0.2)\n",
    "\n",
    "sess.run(adjust_brightness)"
   ]
  },
  {
   "cell_type": "markdown",
   "metadata": {},
   "source": [
    "This example brightens a single pixel, which is primarily red, with a delta of `0.2`. Unfortunately, in the current version of TensorFlow 0.8, this method doesn't work well with a `tf.uint8` input. It's best to avoid using this when possible and preprocess brightness changes."
   ]
  },
  {
   "cell_type": "code",
   "execution_count": 126,
   "metadata": {
    "collapsed": false
   },
   "outputs": [
    {
     "data": {
      "text/plain": [
       "array([[[170,  71, 124],\n",
       "        [168, 112,   7],\n",
       "        [170,  71, 124]]], dtype=uint8)"
      ]
     },
     "execution_count": 126,
     "metadata": {},
     "output_type": "execute_result"
    }
   ],
   "source": [
    "adjust_contrast = tf.image.adjust_contrast(image, -.5)\n",
    "\n",
    "sess.run(tf.slice(adjust_contrast, [1, 0, 0], [1, 3, 3]))"
   ]
  },
  {
   "cell_type": "markdown",
   "metadata": {},
   "source": [
    "The example code changes the contrast by `-0.5` which makes the new version of the image fairly unrecognizable. Adjusting contrast is best done in small increments to keep from blowing out an image. Blowing out an image means the same thing as saturating a neuron, it reached its maximum value and can't be recovered. With contrast changes, an image can become completely white and completely black from the same adjustment.\n",
    "\n",
    "The `tf.slice` operation is for brevity, highlighting one of the pixels which has changed. It is not required when running this operation."
   ]
  },
  {
   "cell_type": "code",
   "execution_count": 76,
   "metadata": {
    "collapsed": false
   },
   "outputs": [
    {
     "data": {
      "text/plain": [
       "array([[[191,  38,   0],\n",
       "        [ 62, 233,   3],\n",
       "        [191,  38,   0]]], dtype=uint8)"
      ]
     },
     "execution_count": 76,
     "metadata": {},
     "output_type": "execute_result"
    }
   ],
   "source": [
    "adjust_hue = tf.image.adjust_hue(image, 0.7)\n",
    "\n",
    "sess.run(tf.slice(adjust_hue, [1, 0, 0], [1, 3, 3]))"
   ]
  },
  {
   "cell_type": "markdown",
   "metadata": {},
   "source": [
    "The example code adjusts the hue found in the image to make it more colorful. The adjustment accepts a `delta` parameter which controls the amount of hue to adjust in the image."
   ]
  },
  {
   "cell_type": "code",
   "execution_count": 80,
   "metadata": {
    "collapsed": false
   },
   "outputs": [
    {
     "data": {
      "text/plain": [
       "array([[[114, 191, 114],\n",
       "        [141, 183, 233],\n",
       "        [114, 191, 114]]], dtype=uint8)"
      ]
     },
     "execution_count": 80,
     "metadata": {},
     "output_type": "execute_result"
    }
   ],
   "source": [
    "adjust_saturation = tf.image.adjust_saturation(image, 0.4)\n",
    "\n",
    "sess.run(tf.slice(adjust_saturation, [1, 0, 0], [1, 3, 3]))"
   ]
  },
  {
   "cell_type": "markdown",
   "metadata": {},
   "source": [
    "The code is similar to adjusting the contrast. It is common to oversaturate an image in order to identify edges because the increased saturation highlights changes in colors."
   ]
  },
  {
   "cell_type": "markdown",
   "metadata": {},
   "source": [
    "### Colors\n",
    "\n",
    "CNNs are commonly trained using images with a single color. When an image has a single color it is said to use a grayscale colorspace meaning it uses a single channel of colors. For most computer vision related tasks, using grayscale is reasonable because the shape of an image can be seen without all the colors. The reduction in colors equates to a quicker to train image. Instead of a 3 component rank 1 tensor to describe each color found with RGB, a grayscale image requires a single component rank 1 tensor to describe the amount of gray found in the image.\n",
    "\n",
    "Although grayscale has benefits, it's important to consider applications which require a distinction based on color. Color in images is challenging to work with in most computer vision because it isn't easy to mathematically define the similarity of two RGB colors. In order to use colors in CNN training, it's useful to convert the colorspace the image is natively in."
   ]
  },
  {
   "cell_type": "markdown",
   "metadata": {},
   "source": [
    "#### Grayscale\n",
    "\n",
    "Grayscale has a single component to it and has the same range of color as RGB <span class=\"math-tex\" data-type=\"tex\">\\\\([0, 255]\\\\)</span>."
   ]
  },
  {
   "cell_type": "code",
   "execution_count": 88,
   "metadata": {
    "collapsed": false
   },
   "outputs": [
    {
     "data": {
      "text/plain": [
       "array([[[  0],\n",
       "        [255],\n",
       "        [ 76]]], dtype=uint8)"
      ]
     },
     "execution_count": 88,
     "metadata": {},
     "output_type": "execute_result"
    }
   ],
   "source": [
    "gray = tf.image.rgb_to_grayscale(image)\n",
    "\n",
    "sess.run(tf.slice(gray, [0, 0, 0], [1, 3, 1]))"
   ]
  },
  {
   "cell_type": "markdown",
   "metadata": {},
   "source": [
    "This example converted the RGB image into grayscale. The `tf.slice` operation took the top row of pixels out to investigate how their color has changed. The grayscale conversion is done by averaging all the color values for a pixel and setting the amount of grayscale to be the average."
   ]
  },
  {
   "cell_type": "markdown",
   "metadata": {},
   "source": [
    "#### HSV\n",
    "\n",
    "Hue, saturation and value are what make up HSV colorspace. This space is represented with a 3 component rank 1 tensor similar to RGB. HSV is not similar to RGB in what it measures, it's measuring attributes of an image which are closer to human perception of color than RGB. It is sometimes called HSB, where the B stands for brightness."
   ]
  },
  {
   "cell_type": "code",
   "execution_count": 94,
   "metadata": {
    "collapsed": false
   },
   "outputs": [
    {
     "data": {
      "text/plain": [
       "array([[[ 0.        ,  0.        ,  0.        ],\n",
       "        [ 0.        ,  0.        ,  1.        ],\n",
       "        [ 0.        ,  1.        ,  0.99607849]],\n",
       "\n",
       "       [[ 0.33333334,  1.        ,  0.74901962],\n",
       "        [ 0.59057975,  0.98712444,  0.91372555],\n",
       "        [ 0.33333334,  1.        ,  0.74901962]],\n",
       "\n",
       "       [[ 0.        ,  1.        ,  0.99607849],\n",
       "        [ 0.        ,  0.        ,  1.        ],\n",
       "        [ 0.        ,  0.        ,  0.        ]]], dtype=float32)"
      ]
     },
     "execution_count": 94,
     "metadata": {},
     "output_type": "execute_result"
    }
   ],
   "source": [
    "hsv = tf.image.rgb_to_hsv(tf.image.convert_image_dtype(image, tf.float32))\n",
    "\n",
    "sess.run(tf.slice(hsv, [0, 0, 0], [3, 3, 3]))"
   ]
  },
  {
   "cell_type": "markdown",
   "metadata": {},
   "source": [
    "#### RGB\n",
    "\n",
    "RGB is the colorspace which has been used in all the example code so far. It's broken up into a 3 component rank 1 tensor which includes the amount of red <span class=\"math-tex\" data-type=\"tex\">\\\\([0, 255]\\\\)</span>, green <span class=\"math-tex\" data-type=\"tex\">\\\\([0, 255]\\\\)</span> and blue <span class=\"math-tex\" data-type=\"tex\">\\\\([0, 255]\\\\)</span>. Most images are already in RGB but TensorFlow has builtin functions in case the images are in another colorspace."
   ]
  },
  {
   "cell_type": "code",
   "execution_count": 103,
   "metadata": {
    "collapsed": false
   },
   "outputs": [],
   "source": [
    "rgb_hsv = tf.image.hsv_to_rgb(hsv)\n",
    "rgb_grayscale = tf.image.grayscale_to_rgb(gray)"
   ]
  },
  {
   "cell_type": "markdown",
   "metadata": {},
   "source": [
    "The example code is straightforward except that the conversion from grayscale to RGB doesn't make much sense. RGB expects three colors while grayscale only has one. When the conversion occurs, the RGB values are filled with the same value which is found in the grayscale pixel."
   ]
  },
  {
   "cell_type": "markdown",
   "metadata": {},
   "source": [
    "#### Lab\n",
    "\n",
    "Lab is not a colorspace which TensorFlow has native support for. It's a useful colorspace because it can map to a larger number of perceivable colors than RGB. Although TensorFlow doesn't support this natively, it is a colorspace which is often used in professional settings. Another Python library [python-colormath](http://python-colormath.readthedocs.io/en/latest/) has support for Lab conversion as well as other colorspaces not described here.\n",
    "\n",
    "The largest benefit using a Lab colorspace is it maps closer to humans perception of the difference in colors than RGB or HSV. The euclidean distance between two colors in a Lab colorspace are somewhat representative of how different the colors look to a human."
   ]
  },
  {
   "cell_type": "markdown",
   "metadata": {},
   "source": [
    "#### Casting Images\n",
    "\n",
    "In these examples, `tf.to_float` is often used in order to illustrate changing an image's type to another format. For examples, this works OK but TensorFlow has a built in function to properly scale values as they change types. `tf.image.convert_image_dtype(image, dtype, saturate=False)` is a useful shortcut to change the type of an image from `tf.uint8` to `tf.float`."
   ]
  }
 ],
 "metadata": {
  "kernelspec": {
   "display_name": "Python 3",
   "language": "python",
   "name": "python3"
  },
  "language_info": {
   "codemirror_mode": {
    "name": "ipython",
    "version": 3
   },
   "file_extension": ".py",
   "mimetype": "text/x-python",
   "name": "python",
   "nbconvert_exporter": "python",
   "pygments_lexer": "ipython3",
   "version": "3.5.1"
  }
 },
 "nbformat": 4,
 "nbformat_minor": 0
}
